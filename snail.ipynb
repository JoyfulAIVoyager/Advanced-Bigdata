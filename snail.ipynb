{
 "cells": [
  {
   "cell_type": "code",
   "execution_count": 1,
   "metadata": {
    "id": "79MhGArLnpvZ"
   },
   "outputs": [],
   "source": [
    "import math\n",
    "import warnings\n",
    "import collections\n",
    "import os\n",
    "import warnings\n",
    "from typing import Any, Dict, List, Optional, Tuple\n",
    "import numpy as np\n",
    "import matplotlib.pyplot as plt\n",
    "import torch\n",
    "import torch.nn as nn\n",
    "import torch.nn.functional as F\n",
    "\n",
    "from torchmeta.modules import MetaBatchNorm2d, MetaConv2d, MetaLinear, MetaModule, MetaSequential\n",
    "from torchmeta.utils.data import BatchMetaDataLoader\n",
    "from torchmeta.utils.gradient_based import gradient_update_parameters\n",
    "from tqdm import tqdm\n",
    "\n",
    "from torchmeta.datasets.helpers import fc100\n",
    "from torchmeta.transforms import Categorical, ClassSplitter\n",
    "from torchvision.transforms import Compose, Resize, ToTensor\n",
    "import multiprocessing\n",
    "\n",
    "try:\n",
    "    multiprocessing.set_start_method(\"spawn\")\n",
    "except RuntimeError:\n",
    "    print(\"The start method has already been set.\")\n",
    "\n",
    "warnings.filterwarnings(\"ignore\")"
   ]
  },
  {
   "cell_type": "code",
   "execution_count": 2,
   "metadata": {},
   "outputs": [],
   "source": [
    "from torchmeta.utils.data import Task\n",
    "\n",
    "def apply_transforms(task, transforms):\n",
    "    print(\"Before transformation:\", task)\n",
    "    if isinstance(task, Task):\n",
    "        task = transforms(task)\n",
    "    print(\"After transformation:\", task)\n",
    "    return task"
   ]
  },
  {
   "cell_type": "code",
   "execution_count": 3,
   "metadata": {
    "id": "zabLz6FNnr3K"
   },
   "outputs": [],
   "source": [
    "def get_dataloader(\n",
    "    config: Dict[str, Any]\n",
    ") -> Tuple[BatchMetaDataLoader, BatchMetaDataLoader, BatchMetaDataLoader]:\n",
    "\n",
    "    # Set transforms\n",
    "    train_transforms = Compose([\n",
    "        Resize(config[\"image_size\"]),\n",
    "        ToTensor(),\n",
    "    ])\n",
    "\n",
    "    val_transforms = Compose([\n",
    "        Resize(config[\"image_size\"]),\n",
    "        ToTensor(),\n",
    "    ])\n",
    "\n",
    "    # class_splitter = ClassSplitter(shuffle=True, num_train_per_class=config[\"num_shots\"], num_test_per_class=config[\"test_shots\"])\n",
    "\n",
    "    train_dataset = fc100(\n",
    "        folder=config[\"folder_name\"],\n",
    "        shots=config[\"num_shots\"],\n",
    "        ways=config[\"num_ways\"],\n",
    "        meta_train=True,\n",
    "        transform=train_transforms,\n",
    "        target_transform=Categorical(config[\"num_ways\"]),\n",
    "        # dataset_transform=class_splitter,\n",
    "        download=config[\"download\"],\n",
    "    )\n",
    "    val_dataset = fc100(\n",
    "        folder=config[\"folder_name\"],\n",
    "        shots=config[\"num_shots\"],\n",
    "        ways=config[\"num_ways\"],\n",
    "        meta_val=True,\n",
    "        transform=val_transforms,\n",
    "        target_transform=Categorical(config[\"num_ways\"]),\n",
    "        #dataset_transform=class_splitter,\n",
    "        download=config[\"download\"],\n",
    "    )\n",
    "    test_dataset = fc100(\n",
    "        folder=config[\"folder_name\"],\n",
    "        shots=config[\"num_shots\"],\n",
    "        ways=config[\"num_ways\"],\n",
    "        meta_test=True,\n",
    "        transform=val_transforms,\n",
    "        target_transform=Categorical(config[\"num_ways\"]),\n",
    "        #dataset_transform=class_splitter,\n",
    "        download=config[\"download\"],\n",
    "    )\n",
    "    train_dataloader = BatchMetaDataLoader(train_dataset, batch_size=config[\"task_batch_size\"], shuffle=True, num_workers=1)\n",
    "    val_dataloader = BatchMetaDataLoader(val_dataset, batch_size=config[\"task_batch_size\"], shuffle=True, num_workers=1)\n",
    "    test_dataloader = BatchMetaDataLoader(test_dataset, batch_size=config[\"task_batch_size\"], shuffle=True, num_workers=1)\n",
    "\n",
    "    return train_dataloader, val_dataloader, test_dataloader\n"
   ]
  },
  {
   "cell_type": "code",
   "execution_count": 4,
   "metadata": {
    "id": "0tDxIn7Hnxa9"
   },
   "outputs": [],
   "source": [
    "class EmbeddingNet(nn.Module):\n",
    "    def __init__(self, x_dim: int = 3, hid_dim: int = 64, z_dim: int = 64) -> None:\n",
    "        super(EmbeddingNet, self).__init__()\n",
    "        self.encoder = nn.Sequential(\n",
    "            self.conv_block(in_channels=x_dim, out_channels=hid_dim),\n",
    "            self.conv_block(in_channels=hid_dim, out_channels=hid_dim),\n",
    "            self.conv_block(in_channels=hid_dim, out_channels=hid_dim),\n",
    "            self.conv_block(in_channels=hid_dim, out_channels=z_dim),\n",
    "        )\n",
    "\n",
    "    @classmethod\n",
    "    def conv_block(cls, in_channels: int, out_channels: int) -> nn.Sequential:\n",
    "        return nn.Sequential(\n",
    "            nn.Conv2d(in_channels, out_channels, 3, padding=1),\n",
    "            nn.BatchNorm2d(out_channels, momentum=1),\n",
    "            nn.ReLU(),\n",
    "            nn.MaxPool2d(2),\n",
    "        )\n",
    "\n",
    "    def forward(self, x: torch.Tensor) -> torch.Tensor:\n",
    "        x = self.encoder(x)\n",
    "        out = x.view(x.size(0), -1)\n",
    "        return out"
   ]
  },
  {
   "cell_type": "code",
   "execution_count": 5,
   "metadata": {
    "id": "ESeoHlmrny8R"
   },
   "outputs": [],
   "source": [
    "class CasualConv1d(nn.Module):\n",
    "    def __init__(\n",
    "        self,\n",
    "        in_channels: int,\n",
    "        out_channels: int,\n",
    "        kernel_size: int,\n",
    "        stride: int = 1,\n",
    "        dilation: int = 1,\n",
    "        groups: int = 1,\n",
    "        bias: int = True,\n",
    "    ) -> None:\n",
    "        super(CasualConv1d, self).__init__()\n",
    "        self.dilation = dilation\n",
    "        padding = dilation * (kernel_size - 1)\n",
    "        self.conv1d = nn.Conv1d(\n",
    "            in_channels,\n",
    "            out_channels,\n",
    "            kernel_size,\n",
    "            stride,\n",
    "            padding,\n",
    "            dilation,\n",
    "            groups,\n",
    "            bias,\n",
    "        )\n",
    "\n",
    "    def forward(self, x: torch.Tensor) -> torch.Tensor:\n",
    "        out = self.conv1d(x)\n",
    "        return out[:, :, : -self.dilation]"
   ]
  },
  {
   "cell_type": "code",
   "execution_count": 6,
   "metadata": {
    "id": "Xdc3g7gqn0P5"
   },
   "outputs": [],
   "source": [
    "class DenseBlock(nn.Module):\n",
    "    def __init__(\n",
    "        self, in_channels: int, dilation: int, filters: int, kernel_size: int = 2\n",
    "    ) -> None:\n",
    "        super(DenseBlock, self).__init__()\n",
    "        self.causal_conv1 = CasualConv1d(\n",
    "            in_channels, filters, kernel_size, dilation=dilation\n",
    "        )\n",
    "        self.causal_conv2 = CasualConv1d(\n",
    "            in_channels, filters, kernel_size, dilation=dilation\n",
    "        )\n",
    "\n",
    "    def forward(self, x: torch.Tensor) -> torch.Tensor:\n",
    "        xf = self.causal_conv1(x)\n",
    "        xg = self.causal_conv2(x)\n",
    "        activations = torch.tanh(xf) * torch.sigmoid(xg)\n",
    "        return torch.cat((x, activations), dim=1)"
   ]
  },
  {
   "cell_type": "code",
   "execution_count": 7,
   "metadata": {
    "id": "hKhnjo0hn1Wg"
   },
   "outputs": [],
   "source": [
    "class TCBlock(nn.Module):\n",
    "    def __init__(self, in_channels: int, seq_length: int, filters: int) -> None:\n",
    "        super(TCBlock, self).__init__()\n",
    "        self.dense_blocks = nn.ModuleList(\n",
    "            [\n",
    "                DenseBlock(in_channels + i * filters, 2 ** (i + 1), filters)\n",
    "                for i in range(int(math.ceil(math.log(seq_length, 2))))\n",
    "            ]\n",
    "        )\n",
    "\n",
    "    def forward(self, x: torch.Tensor) -> torch.Tensor:\n",
    "        x = torch.transpose(x, 1, 2)\n",
    "        for block in self.dense_blocks:\n",
    "            x = block(x)\n",
    "        return torch.transpose(x, 1, 2)"
   ]
  },
  {
   "cell_type": "code",
   "execution_count": 8,
   "metadata": {
    "id": "jY4-zOLLuiLC"
   },
   "outputs": [],
   "source": [
    "class AttentionBlock(nn.Module):\n",
    "    def __init__(self, in_channels: int, key_size: int, value_size: int) -> None:\n",
    "        super(AttentionBlock, self).__init__()\n",
    "        self.query_layer = nn.Linear(in_channels, key_size)\n",
    "        self.keys_layer = nn.Linear(in_channels, key_size)\n",
    "        self.values_layer = nn.Linear(in_channels, value_size)\n",
    "        self.sqrt_key_size = math.sqrt(key_size)\n",
    "        self.key_size = key_size\n",
    "        # print(f\"In_channels in AttentionBlock: {in_channels}\")\n",
    "        # print(f\"key_size in AttentionBlock: {key_size}\")\n",
    "        # print(f\"value_size in AttentionBlock: {value_size}\")\n",
    "    @classmethod\n",
    "    def causally_masked_softmax(\n",
    "        cls, logits: torch.Tensor, key_size: int\n",
    "    ) -> torch.Tensor:\n",
    "        seq_len = logits.shape[1]\n",
    "        mask = np.array([[i > j for i in range(seq_len)] for j in range(seq_len)])\n",
    "        mask = torch.BoolTensor(mask).to(logits.get_device())\n",
    "\n",
    "        logits = logits.data.masked_fill(mask, -float(\"inf\"))\n",
    "        return F.softmax(logits / math.sqrt(key_size), dim=1)\n",
    "\n",
    "    def forward(self, x: torch.Tensor) -> torch.Tensor:\n",
    "        \n",
    "        # print(f\"Input shape: {x.shape}\") \n",
    "        keys = self.keys_layer(x)\n",
    "        # print(f\"Keys shape: {keys.shape}\")\n",
    "        query = self.query_layer(x)\n",
    "        # print(f\"Query shape: {query.shape}\") \n",
    "        logits = torch.bmm(query, torch.transpose(keys, 1, 2))\n",
    "\n",
    "        probs = self.causally_masked_softmax(logits, self.key_size)\n",
    "        values = self.values_layer(x)\n",
    "\n",
    "        read = torch.bmm(probs, values)\n",
    "        output = torch.cat((x, read), dim=2)\n",
    "        # print(f\"Output shape: {output.shape}\") \n",
    "        return output"
   ]
  },
  {
   "cell_type": "code",
   "execution_count": 9,
   "metadata": {
    "id": "i7MMGmOBujng"
   },
   "outputs": [],
   "source": [
    "class SNAIL(nn.Module):\n",
    "    def __init__(self, num_ways: int, num_shots: int) -> None:\n",
    "        super(SNAIL, self).__init__()\n",
    "        self.num_ways, self.num_shots = num_ways, num_shots\n",
    "\n",
    "        self.encoder = EmbeddingNet()\n",
    "        num_channels = 256 + num_ways\n",
    "        num_filters = int(math.ceil(math.log(num_ways * num_shots + 1, 2)))\n",
    "\n",
    "        self.attention1 = AttentionBlock(num_channels, 64, 32)\n",
    "        num_channels += 32\n",
    "        self.tc1 = TCBlock(num_channels, num_ways * num_shots + 1, 128)\n",
    "        num_channels += num_filters * 128\n",
    "\n",
    "        self.attention2 = AttentionBlock(num_channels, 256, 128)\n",
    "        num_channels += 128\n",
    "        self.tc2 = TCBlock(num_channels, num_ways * num_shots + 1, 128)\n",
    "        num_channels += num_filters * 128\n",
    "\n",
    "        self.attention3 = AttentionBlock(num_channels, 512, 256)\n",
    "        num_channels += 256\n",
    "        self.fc = nn.Linear(num_channels, num_ways)\n",
    "\n",
    "    def forward(self, x_seq: torch.Tensor, y_seq: torch.Tensor) -> torch.Tensor:\n",
    "        # print(f\"x_seq shape: {x_seq.shape}\")\n",
    "        # print(f\"y_seq shape: {y_seq.shape}\")\n",
    "        x_emb = self.encoder(x_seq)\n",
    "        batch_size = int(y_seq.size()[0] / (self.num_ways * self.num_shots + 1))\n",
    "\n",
    "        last_idxs = [\n",
    "            (i + 1) * (self.num_ways * self.num_shots + 1) - 1\n",
    "            for i in range(batch_size)\n",
    "        ]\n",
    "        y_seq[last_idxs] = torch.Tensor(np.zeros((batch_size, y_seq.size()[1]))).to(\n",
    "            y_seq.get_device()\n",
    "        )\n",
    "\n",
    "        x_cat = torch.cat((x_emb, y_seq), 1)\n",
    "        x_view = x_cat.view((batch_size, self.num_ways * self.num_shots + 1, -1))\n",
    "\n",
    "        x_att1 = self.attention1(x_view)\n",
    "        x_tc1 = self.tc1(x_att1)\n",
    "\n",
    "        x_att2 = self.attention2(x_tc1)\n",
    "        x_tc2 = self.tc2(x_att2)\n",
    "\n",
    "        x_att3 = self.attention3(x_tc2)\n",
    "        x_out = self.fc(x_att3)\n",
    "        return x_out"
   ]
  },
  {
   "cell_type": "code",
   "execution_count": 10,
   "metadata": {
    "id": "ZRdZOfZon300"
   },
   "outputs": [],
   "source": [
    "def generate_sequence(\n",
    "    task_batch: Dict[str, List[torch.Tensor]],\n",
    "    device: str,\n",
    "    num_ways: int,\n",
    "    num_shots: int,\n",
    ") -> Tuple[torch.Tensor, torch.Tensor, torch.Tensor]:\n",
    "    support_xs = task_batch[\"train\"][0].to(device=device)\n",
    "    support_ys = task_batch[\"train\"][1].to(device=device)\n",
    "    query_xs = task_batch[\"test\"][0].to(device=device)\n",
    "    query_ys = task_batch[\"test\"][1].to(device=device)\n",
    "\n",
    "    chosen_indices = torch.randint(query_xs.shape[1], size=(query_xs.shape[0],))\n",
    "    chosen_query_xs = query_xs[\n",
    "        torch.arange(query_xs.shape[0]), chosen_indices, :, :, :\n",
    "    ].unsqueeze(1)\n",
    "    chosen_query_ys = query_ys[\n",
    "        torch.arange(query_ys.shape[0]), chosen_indices\n",
    "    ].unsqueeze(1)\n",
    "\n",
    "    x_seq = torch.cat((support_xs, chosen_query_xs), dim=1).reshape(\n",
    "        (-1, *support_xs.shape[2:])\n",
    "    )\n",
    "    y_seq = torch.cat((support_ys, chosen_query_ys), dim=1).reshape(\n",
    "        (-1, *support_ys.shape[2:])\n",
    "    )\n",
    "\n",
    "    y_seq_onehot = F.one_hot(y_seq).float()\n",
    "\n",
    "    query_y = y_seq[:: (num_ways * num_shots + 1)].long()\n",
    "\n",
    "    # print(f\"x_seq shape: {x_seq.shape}\")\n",
    "    # print(f\"y_seq shape: {y_seq.shape}\")\n",
    "    # print(f\"y_seq_onehot shape: {y_seq_onehot.shape}\")\n",
    "    # print(f\"query_y shape: {query_y.shape}\")\n",
    "    return x_seq, y_seq_onehot, query_y"
   ]
  },
  {
   "cell_type": "code",
   "execution_count": 11,
   "metadata": {
    "id": "edryykkln46d"
   },
   "outputs": [],
   "source": [
    "def train_snail(\n",
    "    num_ways: int,\n",
    "    num_shots: int,\n",
    "    device: str,\n",
    "    task_batch: Dict[str, List[torch.Tensor]],\n",
    "    model: SNAIL,\n",
    "    criterion: nn.CrossEntropyLoss,\n",
    "    optimizer: torch.optim.Adam,\n",
    ") -> Tuple[float, float]:\n",
    "    model.train()\n",
    "\n",
    "    x_seq, y_seq, query_y = generate_sequence(\n",
    "        task_batch=task_batch, device=device, num_ways=num_ways, num_shots=num_shots\n",
    "    )\n",
    "    x_seq = x_seq.to(device=device)\n",
    "    y_seq = y_seq.to(device=device)\n",
    "    query_y = query_y.to(device=device)\n",
    "\n",
    "    query_prob = model(x_seq, y_seq)[:, -1, :]\n",
    "    loss = criterion(query_prob, query_y)\n",
    "\n",
    "    model.zero_grad()\n",
    "    loss.backward()\n",
    "    optimizer.step()\n",
    "\n",
    "    with torch.no_grad():\n",
    "        _, query_preds = query_prob.max(1)\n",
    "        accuracy = torch.eq(query_preds, query_y).float().mean()\n",
    "    return accuracy.item(), loss.item()"
   ]
  },
  {
   "cell_type": "code",
   "execution_count": 12,
   "metadata": {
    "id": "j-dD9teMn5_F"
   },
   "outputs": [],
   "source": [
    "def test_snail(\n",
    "    num_ways: int,\n",
    "    num_shots: int,\n",
    "    device: str,\n",
    "    task_batch: Dict[str, List[torch.Tensor]],\n",
    "    model: SNAIL,\n",
    "    criterion: nn.CrossEntropyLoss,\n",
    ") -> Tuple[float, float]:\n",
    "    model.eval()\n",
    "\n",
    "    x_seq, y_seq, query_y = generate_sequence(\n",
    "        task_batch=task_batch, device=device, num_ways=num_ways, num_shots=num_shots\n",
    "    )\n",
    "    x_seq = x_seq.to(device=device)\n",
    "    y_seq = y_seq.to(device=device)\n",
    "    query_y = query_y.to(device=device)\n",
    "\n",
    "    query_prob = model(x_seq, y_seq)[:, -1, :]\n",
    "    loss = criterion(query_prob, query_y)\n",
    "\n",
    "    with torch.no_grad():\n",
    "        _, query_preds = query_prob.max(1)\n",
    "        accuracy = torch.eq(query_preds, query_y).float().mean()\n",
    "    return accuracy.item(), loss.item()"
   ]
  },
  {
   "cell_type": "code",
   "execution_count": 13,
   "metadata": {},
   "outputs": [],
   "source": [
    "def save_model(output_folder: str, model: SNAIL, title: str) -> None:\n",
    "    if not os.path.isdir(output_folder):\n",
    "        os.mkdir(output_folder)\n",
    "    filename = os.path.join(output_folder, title)\n",
    "\n",
    "    with open(filename, \"wb\") as f:\n",
    "        state_dict = model.state_dict()\n",
    "        torch.save(state_dict, f)\n",
    "    print(\"Model is saved in\", filename)\n",
    "\n",
    "\n",
    "def load_model(output_folder: str, model: SNAIL, title: str) -> None:\n",
    "    filename = os.path.join(output_folder, title)\n",
    "    model.load_state_dict(torch.load(filename))\n",
    "    print(\"Model is loaded\")"
   ]
  },
  {
   "cell_type": "code",
   "execution_count": 14,
   "metadata": {},
   "outputs": [],
   "source": [
    "def print_graph(\n",
    "    train_accuracies: List[float],\n",
    "    val_accuracies: List[float],\n",
    "    train_losses: List[float],\n",
    "    val_losses: List[float],\n",
    ") -> None:\n",
    "    fig, axs = plt.subplots(1, 2, figsize=(14, 6))\n",
    "\n",
    "    axs[0].plot(train_accuracies, label=\"train_acc\")\n",
    "    axs[0].plot(val_accuracies, label=\"test_acc\")\n",
    "    axs[0].set_title(\"Accuracy\")\n",
    "    axs[0].legend()\n",
    "\n",
    "    axs[1].plot(train_losses, label=\"train_loss\")\n",
    "    axs[1].plot(val_losses, label=\"test_loss\")\n",
    "    axs[1].set_title(\"Loss\")\n",
    "    axs[1].legend()\n",
    "\n",
    "    fig.show()"
   ]
  },
  {
   "cell_type": "code",
   "execution_count": 15,
   "metadata": {
    "id": "87lCl1Ien7Kr"
   },
   "outputs": [],
   "source": [
    "config = {\n",
    "    \"folder_name\": \"data/FC10011\",\n",
    "    \"num_shots\": 5,\n",
    "    # \"test_shots\": 5,\n",
    "    \"num_ways\": 5,\n",
    "    \"task_batch_size\": 15,\n",
    "    \"download\": True,\n",
    "    \"image_size\": 32,\n",
    "    \"device\": \"cuda\" if torch.cuda.is_available() else \"cpu\",\n",
    "    \"num_task_batch_train\": 1000,  \n",
    "    \"num_task_batch_test\": 300,\n",
    "    \"output_folder\": \"output\",     \n",
    "}\n",
    "\n",
    "train_dataloader, val_dataloader, test_dataloader = get_dataloader(config)\n",
    "\n",
    "model = SNAIL(num_ways=config[\"num_ways\"], num_shots=config[\"num_shots\"]).to(\n",
    "    device=config[\"device\"]\n",
    ")\n",
    "\n",
    "criterion = nn.CrossEntropyLoss()\n",
    "optimizer = torch.optim.Adam(params=model.parameters(), lr=4e-5)"
   ]
  },
  {
   "cell_type": "code",
   "execution_count": 16,
   "metadata": {
    "colab": {
     "base_uri": "https://localhost:8080/",
     "height": 426
    },
    "executionInfo": {
     "elapsed": 201797,
     "status": "ok",
     "timestamp": 1642240392963,
     "user": {
      "displayName": "Luna Jang",
      "photoUrl": "https://lh3.googleusercontent.com/a-/AOh14GiBq_mQ3pvg1aATbjbemG_YdHPPMMsRmQcVaghkug=s64",
      "userId": "06164029183671863730"
     },
     "user_tz": -540
    },
    "id": "8fyiCQsQn8dB",
    "outputId": "63a8df4b-52e7-446b-da8b-33ce97358ed3",
    "scrolled": true
   },
   "outputs": [
    {
     "name": "stderr",
     "output_type": "stream",
     "text": [
      "100%|█| 1000/1000 [02:15<00:00,  7.40it/s, train_accuracy=0.8000, train_loss=1.0469, val_accuracy=0.7333, val_loss=0.99\n"
     ]
    },
    {
     "name": "stdout",
     "output_type": "stream",
     "text": [
      "\n",
      "Train Accuracies - Average: 0.2900, ± 0.0102\n",
      "Validation Accuracies - Average: 0.2969, ± 0.0107\n",
      "Model is saved in output\\snail1.th\n"
     ]
    },
    {
     "data": {
      "image/png": "[encoded data removed]",
      "text/plain": [
       "<Figure size 1400x600 with 2 Axes>"
      ]
     },
     "metadata": {},
     "output_type": "display_data"
    }
   ],
   "source": [
    "# meta training\n",
    "with tqdm(\n",
    "    zip(train_dataloader, val_dataloader), total=config[\"num_task_batch_train\"]\n",
    ") as pbar:\n",
    "    train_accuracies = []\n",
    "    val_accuracies = []\n",
    "    train_losses = []\n",
    "    val_losses = []\n",
    "\n",
    "    for task_batch_idx, (train_batch, val_batch) in enumerate(pbar):\n",
    "        if task_batch_idx >= config[\"num_task_batch_train\"]:\n",
    "            break\n",
    "\n",
    "        train_accuracy, train_loss = train_snail(\n",
    "            num_ways=config[\"num_ways\"],\n",
    "            num_shots=config[\"num_shots\"],\n",
    "            device=config[\"device\"],\n",
    "            task_batch=train_batch,\n",
    "            model=model,\n",
    "            criterion=criterion,\n",
    "            optimizer=optimizer,\n",
    "        )\n",
    "        val_accuracy, val_loss = test_snail(\n",
    "            num_ways=config[\"num_ways\"],\n",
    "            num_shots=config[\"num_shots\"],\n",
    "            device=config[\"device\"],\n",
    "            task_batch=val_batch,\n",
    "            model=model,\n",
    "            criterion=criterion,\n",
    "        )\n",
    "\n",
    "        train_accuracies.append(train_accuracy)\n",
    "        val_accuracies.append(val_accuracy)\n",
    "        train_losses.append(train_loss)\n",
    "        val_losses.append(val_loss)\n",
    "\n",
    "        pbar.set_postfix(\n",
    "            train_accuracy=\"{0:.4f}\".format(train_accuracy),\n",
    "            val_accuracy=\"{0:.4f}\".format(val_accuracy),\n",
    "            train_loss=\"{0:.4f}\".format(train_loss),\n",
    "            val_loss=\"{0:.4f}\".format(val_loss),\n",
    "        )\n",
    "    train_accuracies_avg = np.mean(train_accuracies)\n",
    "    train_accuracies_std = np.std(train_accuracies)\n",
    "    val_accuracies_avg = np.mean(val_accuracies)\n",
    "    val_accuracies_std = np.std(val_accuracies)\n",
    "    print(\"\\nTrain Accuracies - Average: {:.4f}, ± {:.4f}\".format(train_accuracies_avg, 1.96*(train_accuracies_std/np.sqrt(len(train_accuracies)))))\n",
    "    print(\"Validation Accuracies - Average: {:.4f}, ± {:.4f}\".format(val_accuracies_avg, 1.96*(val_accuracies_std/np.sqrt(len(val_accuracies)))))\n",
    "\n",
    "    # model save\n",
    "    save_model(output_folder=config[\"output_folder\"], model=model, title=\"snail1.th\")\n",
    "\n",
    "    print_graph(\n",
    "        train_accuracies=train_accuracies,\n",
    "        val_accuracies=val_accuracies,\n",
    "        train_losses=train_losses,\n",
    "        val_losses=val_losses,\n",
    "    )"
   ]
  },
  {
   "cell_type": "code",
   "execution_count": null,
   "metadata": {
    "colab": {
     "base_uri": "https://localhost:8080/",
     "height": 426
    },
    "executionInfo": {
     "elapsed": 201797,
     "status": "ok",
     "timestamp": 1642240392963,
     "user": {
      "displayName": "Luna Jang",
      "photoUrl": "https://lh3.googleusercontent.com/a-/AOh14GiBq_mQ3pvg1aATbjbemG_YdHPPMMsRmQcVaghkug=s64",
      "userId": "06164029183671863730"
     },
     "user_tz": -540
    },
    "id": "8fyiCQsQn8dB",
    "outputId": "63a8df4b-52e7-446b-da8b-33ce97358ed3",
    "scrolled": true
   },
   "outputs": [],
   "source": []
  },
  {
   "cell_type": "code",
   "execution_count": null,
   "metadata": {
    "colab": {
     "base_uri": "https://localhost:8080/",
     "height": 426
    },
    "executionInfo": {
     "elapsed": 201797,
     "status": "ok",
     "timestamp": 1642240392963,
     "user": {
      "displayName": "Luna Jang",
      "photoUrl": "https://lh3.googleusercontent.com/a-/AOh14GiBq_mQ3pvg1aATbjbemG_YdHPPMMsRmQcVaghkug=s64",
      "userId": "06164029183671863730"
     },
     "user_tz": -540
    },
    "id": "8fyiCQsQn8dB",
    "outputId": "63a8df4b-52e7-446b-da8b-33ce97358ed3",
    "scrolled": true
   },
   "outputs": [],
   "source": []
  },
  {
   "cell_type": "code",
   "execution_count": 17,
   "metadata": {
    "colab": {
     "base_uri": "https://localhost:8080/"
    },
    "executionInfo": {
     "elapsed": 46969,
     "status": "ok",
     "timestamp": 1642240439925,
     "user": {
      "displayName": "Luna Jang",
      "photoUrl": "https://lh3.googleusercontent.com/a-/AOh14GiBq_mQ3pvg1aATbjbemG_YdHPPMMsRmQcVaghkug=s64",
      "userId": "06164029183671863730"
     },
     "user_tz": -540
    },
    "id": "LFKJl4oQn9vs",
    "outputId": "e8f371e9-4f78-4bf0-d6b4-f2e8509e8752"
   },
   "outputs": [
    {
     "name": "stdout",
     "output_type": "stream",
     "text": [
      "Model is loaded\n"
     ]
    },
    {
     "name": "stderr",
     "output_type": "stream",
     "text": [
      "100%|████████████████████████████████████████| 300/300 [00:39<00:00,  7.56it/s, test_accuracy=0.6449, test_loss=1.1137]"
     ]
    },
    {
     "name": "stdout",
     "output_type": "stream",
     "text": [
      "\n",
      "Test Accuracies - Average: 0.6449, ± 0.0139\n"
     ]
    },
    {
     "name": "stderr",
     "output_type": "stream",
     "text": [
      "\n"
     ]
    }
   ],
   "source": [
    "# 모델 불러오기\n",
    "load_model(output_folder=config[\"output_folder\"], model=model, title=\"snail1.th\")\n",
    "\n",
    "# 메타-테스팅\n",
    "with tqdm(test_dataloader, total=config[\"num_task_batch_test\"]) as pbar:\n",
    "    sum_test_accuracies = 0.0\n",
    "    sum_test_losses = 0.0\n",
    "    test_accuracies = [] \n",
    "    for task_batch_idx, test_batch in enumerate(pbar):\n",
    "        if task_batch_idx >= config[\"num_task_batch_test\"]:\n",
    "            break\n",
    "\n",
    "        test_accuracy, test_loss = test_snail(\n",
    "            num_ways=config[\"num_ways\"],\n",
    "            num_shots=config[\"num_shots\"],\n",
    "            device=config[\"device\"],\n",
    "            task_batch=test_batch,\n",
    "            model=model,\n",
    "            criterion=criterion,\n",
    "        )\n",
    "        test_accuracies.append(test_accuracy)\n",
    "        sum_test_accuracies += test_accuracy\n",
    "        sum_test_losses += test_loss\n",
    "        pbar.set_postfix(\n",
    "            test_accuracy=\"{0:.4f}\".format(sum_test_accuracies / (task_batch_idx + 1)),\n",
    "            test_loss=\"{0:.4f}\".format(sum_test_losses / (task_batch_idx + 1)),\n",
    "        )\n",
    "\n",
    "test_accuracy_avg = np.mean(test_accuracies)  # Calculate the average of test_accuracies list\n",
    "test_accuracy_std = np.std(test_accuracies)  # Calculate the standard deviation of test_accuracies list\n",
    "\n",
    "# Print the average and 95% confidence interval\n",
    "print(\"\\nTest Accuracies - Average: {:.4f}, ± {:.4f}\".format(test_accuracy_avg, 1.96 * (test_accuracy_std / np.sqrt(len(test_accuracies)))))\n"
   ]
  },
  {
   "cell_type": "code",
   "execution_count": null,
   "metadata": {},
   "outputs": [],
   "source": []
  },
  {
   "cell_type": "code",
   "execution_count": null,
   "metadata": {},
   "outputs": [],
   "source": []
  },
  {
   "cell_type": "code",
   "execution_count": null,
   "metadata": {},
   "outputs": [],
   "source": []
  },
  {
   "cell_type": "code",
   "execution_count": null,
   "metadata": {},
   "outputs": [],
   "source": []
  },
  {
   "cell_type": "code",
   "execution_count": null,
   "metadata": {},
   "outputs": [],
   "source": []
  },
  {
   "cell_type": "markdown",
   "metadata": {},
   "source": [
    "*Refrences \n",
    "https://github.com/dongminlee94/meta-learning-for-everyone"
   ]
  }
 ],
 "metadata": {
  "accelerator": "GPU",
  "colab": {
   "authorship_tag": "ABX9TyMBeWdJxvOkFxBFBQlUpO7P",
   "collapsed_sections": [],
   "name": "2.2.5.SNAIL.ipynb",
   "provenance": []
  },
  "kernelspec": {
   "display_name": "Python 3",
   "language": "python",
   "name": "python3"
  },
  "language_info": {
   "codemirror_mode": {
    "name": "ipython",
    "version": 3
   },
   "file_extension": ".py",
   "mimetype": "text/x-python",
   "name": "python",
   "nbconvert_exporter": "python",
   "pygments_lexer": "ipython3",
   "version": "3.7.15"
  },
  "vscode": {
   "interpreter": {
    "hash": "1e00701f8c0a829a96ff452fb5277f0ece3f4e07662fe9989dbbafc0d5cb5571"
   }
  }
 },
 "nbformat": 4,
 "nbformat_minor": 4
}
